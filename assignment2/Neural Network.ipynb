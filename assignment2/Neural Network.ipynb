{
 "cells": [
  {
   "cell_type": "markdown",
   "metadata": {},
   "source": [
    "# Задание 2.1 - Нейронные сети\n",
    "\n",
    "В этом задании вы реализуете и натренируете настоящую нейроную сеть своими руками!\n",
    "\n",
    "В некотором смысле это будет расширением прошлого задания - нам нужно просто составить несколько линейных классификаторов вместе!\n",
    "\n",
    "<img src=\"https://i.redd.it/n9fgba8b0qr01.png\" alt=\"Stack_more_layers\" width=\"400px\"/>"
   ]
  },
  {
   "cell_type": "code",
   "execution_count": 1,
   "metadata": {},
   "outputs": [],
   "source": [
    "import numpy as np\n",
    "import matplotlib.pyplot as plt\n",
    "\n",
    "%matplotlib inline\n",
    "\n",
    "%load_ext autoreload\n",
    "%autoreload 2"
   ]
  },
  {
   "cell_type": "code",
   "execution_count": 26,
   "metadata": {},
   "outputs": [],
   "source": [
    "from dataset import load_svhn, random_split_train_val\n",
    "from gradient_check import check_layer_gradient, check_layer_param_gradient, check_model_gradient\n",
    "from layers import FullyConnectedLayer, ReLULayer\n",
    "from model import TwoLayerNet\n",
    "from trainer import Trainer, Dataset\n",
    "from optim import SGD, MomentumSGD\n",
    "from metrics import multiclass_accuracy\n",
    "import itertools"
   ]
  },
  {
   "cell_type": "markdown",
   "metadata": {},
   "source": [
    "# Загружаем данные\n",
    "\n",
    "И разделяем их на training и validation."
   ]
  },
  {
   "cell_type": "code",
   "execution_count": 3,
   "metadata": {},
   "outputs": [],
   "source": [
    "def prepare_for_neural_network(train_X, test_X):\n",
    "    train_flat = train_X.reshape(train_X.shape[0], -1).astype(np.float) / 255.0\n",
    "    test_flat = test_X.reshape(test_X.shape[0], -1).astype(np.float) / 255.0\n",
    "    \n",
    "    # Subtract mean\n",
    "    mean_image = np.mean(train_flat, axis = 0)\n",
    "    train_flat -= mean_image\n",
    "    test_flat -= mean_image\n",
    "    \n",
    "    return train_flat, test_flat\n",
    "    \n",
    "train_X, train_y, test_X, test_y = load_svhn(\"data\", max_train=10000, max_test=1000)    \n",
    "train_X, test_X = prepare_for_neural_network(train_X, test_X)\n",
    "# Split train into train and val\n",
    "train_X, train_y, val_X, val_y = random_split_train_val(train_X, train_y, num_val = 1000)"
   ]
  },
  {
   "cell_type": "markdown",
   "metadata": {},
   "source": [
    "# Как всегда, начинаем с кирпичиков\n",
    "\n",
    "Мы будем реализовывать необходимые нам слои по очереди. Каждый слой должен реализовать:\n",
    "- прямой проход (forward pass), который генерирует выход слоя по входу и запоминает необходимые данные\n",
    "- обратный проход (backward pass), который получает градиент по выходу слоя и вычисляет градиент по входу и по параметрам\n",
    "\n",
    "Начнем с ReLU, у которого параметров нет."
   ]
  },
  {
   "cell_type": "code",
   "execution_count": 6,
   "metadata": {},
   "outputs": [
    {
     "name": "stdout",
     "output_type": "stream",
     "text": [
      "Gradient check passed!\n"
     ]
    }
   ],
   "source": [
    "# TODO: Implement ReLULayer layer in layers.py\n",
    "# Note: you'll need to copy implementation of the gradient_check function from the previous assignment\n",
    "\n",
    "X = np.array([[1,-2,3],\n",
    "              [-1, 2, 0.1]\n",
    "              ])\n",
    "\n",
    "assert check_layer_gradient(ReLULayer(), X)"
   ]
  },
  {
   "cell_type": "markdown",
   "metadata": {},
   "source": [
    "А теперь реализуем полносвязный слой (fully connected layer), у которого будет два массива параметров: W (weights) и B (bias).\n",
    "\n",
    "Все параметры наши слои будут использовать для параметров специальный класс `Param`, в котором будут храниться значения параметров и градиенты этих параметров, вычисляемые во время обратного прохода.\n",
    "\n",
    "Это даст возможность аккумулировать (суммировать) градиенты из разных частей функции потерь, например, из cross-entropy loss и regularization loss."
   ]
  },
  {
   "cell_type": "code",
   "execution_count": 7,
   "metadata": {},
   "outputs": [
    {
     "name": "stdout",
     "output_type": "stream",
     "text": [
      "Gradient check passed!\n",
      "Gradient check passed!\n",
      "Gradient check passed!\n"
     ]
    }
   ],
   "source": [
    "# TODO: Implement FullyConnected layer forward and backward methods\n",
    "assert check_layer_gradient(FullyConnectedLayer(3, 4), X)\n",
    "# TODO: Implement storing gradients for W and B\n",
    "assert check_layer_param_gradient(FullyConnectedLayer(3, 4), X, 'W')\n",
    "assert check_layer_param_gradient(FullyConnectedLayer(3, 4), X, 'B')"
   ]
  },
  {
   "cell_type": "markdown",
   "metadata": {},
   "source": [
    "## Создаем нейронную сеть\n",
    "\n",
    "Теперь мы реализуем простейшую нейронную сеть с двумя полносвязным слоями и нелинейностью ReLU. Реализуйте функцию `compute_loss_and_gradients`, она должна запустить прямой и обратный проход через оба слоя для вычисления градиентов.\n",
    "\n",
    "Не забудьте реализовать очистку градиентов в начале функции."
   ]
  },
  {
   "cell_type": "code",
   "execution_count": 9,
   "metadata": {},
   "outputs": [
    {
     "name": "stdout",
     "output_type": "stream",
     "text": [
      "Checking gradient for layer1.W\n",
      "Gradient check passed!\n",
      "Checking gradient for layer1.B\n",
      "Gradient check passed!\n",
      "Checking gradient for layer2.W\n",
      "Gradient check passed!\n",
      "Checking gradient for layer2.B\n",
      "Gradient check passed!\n"
     ]
    },
    {
     "data": {
      "text/plain": [
       "True"
      ]
     },
     "execution_count": 9,
     "metadata": {},
     "output_type": "execute_result"
    }
   ],
   "source": [
    "# TODO: In model.py, implement compute_loss_and_gradients function\n",
    "model = TwoLayerNet(n_input = train_X.shape[1], n_output = 10, hidden_layer_size = 3, reg = 0)\n",
    "loss = model.compute_loss_and_gradients(train_X[:2], train_y[:2])\n",
    "\n",
    "# TODO Now implement backward pass and aggregate all of the params\n",
    "check_model_gradient(model, train_X[:2], train_y[:2])"
   ]
  },
  {
   "cell_type": "markdown",
   "metadata": {},
   "source": [
    "Теперь добавьте к модели регуляризацию - она должна прибавляться к loss и делать свой вклад в градиенты."
   ]
  },
  {
   "cell_type": "code",
   "execution_count": 10,
   "metadata": {},
   "outputs": [
    {
     "name": "stdout",
     "output_type": "stream",
     "text": [
      "Checking gradient for layer1.W\n",
      "Gradient check passed!\n",
      "Checking gradient for layer1.B\n",
      "Gradient check passed!\n",
      "Checking gradient for layer2.W\n",
      "Gradient check passed!\n",
      "Checking gradient for layer2.B\n",
      "Gradient check passed!\n"
     ]
    },
    {
     "data": {
      "text/plain": [
       "True"
      ]
     },
     "execution_count": 10,
     "metadata": {},
     "output_type": "execute_result"
    }
   ],
   "source": [
    "# TODO Now implement l2 regularization in the forward and backward pass\n",
    "model_with_reg = TwoLayerNet(n_input = train_X.shape[1], n_output = 10, hidden_layer_size = 3, reg = 1e1)\n",
    "loss_with_reg = model_with_reg.compute_loss_and_gradients(train_X[:2], train_y[:2])\n",
    "assert loss_with_reg > loss and not np.isclose(loss_with_reg, loss), \\\n",
    "    \"Loss with regularization (%2.4f) should be higher than without it (%2.4f)!\" % (loss, loss_with_reg)\n",
    "\n",
    "check_model_gradient(model_with_reg, train_X[:2], train_y[:2])"
   ]
  },
  {
   "cell_type": "markdown",
   "metadata": {},
   "source": [
    "Также реализуем функцию предсказания (вычисления значения) модели на новых данных.\n",
    "\n",
    "Какое значение точности мы ожидаем увидеть до начала тренировки?"
   ]
  },
  {
   "cell_type": "code",
   "execution_count": 14,
   "metadata": {},
   "outputs": [
    {
     "data": {
      "text/plain": [
       "0.16666666666666666"
      ]
     },
     "execution_count": 14,
     "metadata": {},
     "output_type": "execute_result"
    }
   ],
   "source": [
    "# Finally, implement predict function!\n",
    "\n",
    "# TODO: Implement predict function\n",
    "# What would be the value we expect?\n",
    "multiclass_accuracy(model_with_reg.predict(train_X[:30]), train_y[:30]) "
   ]
  },
  {
   "cell_type": "markdown",
   "metadata": {},
   "source": [
    "# Допишем код для процесса тренировки\n",
    "\n",
    "Если все реализовано корректно, значение функции ошибки должно уменьшаться с каждой эпохой, пусть и медленно. Не беспокойтесь пока про validation accuracy."
   ]
  },
  {
   "cell_type": "code",
   "execution_count": 27,
   "metadata": {},
   "outputs": [
    {
     "name": "stdout",
     "output_type": "stream",
     "text": [
      "Loss: 2.302198, Train accuracy: 0.196667, val accuracy: 0.206000\n",
      "Loss: 2.302705, Train accuracy: 0.196667, val accuracy: 0.206000\n",
      "Loss: 2.301424, Train accuracy: 0.196667, val accuracy: 0.206000\n",
      "Loss: 2.301631, Train accuracy: 0.196667, val accuracy: 0.206000\n",
      "Loss: 2.302176, Train accuracy: 0.148222, val accuracy: 0.140000\n",
      "Loss: 2.301959, Train accuracy: 0.196667, val accuracy: 0.206000\n",
      "Loss: 2.301419, Train accuracy: 0.196667, val accuracy: 0.206000\n",
      "Loss: 2.301919, Train accuracy: 0.196667, val accuracy: 0.206000\n"
     ]
    },
    {
     "ename": "KeyboardInterrupt",
     "evalue": "",
     "output_type": "error",
     "traceback": [
      "\u001b[0;31m---------------------------------------------------------------------------\u001b[0m",
      "\u001b[0;31mKeyboardInterrupt\u001b[0m                         Traceback (most recent call last)",
      "\u001b[0;32m<ipython-input-27-f4364dceba81>\u001b[0m in \u001b[0;36m<module>\u001b[0;34m\u001b[0m\n\u001b[1;32m      5\u001b[0m \u001b[0;31m# TODO Implement missing pieces in Trainer.fit function\u001b[0m\u001b[0;34m\u001b[0m\u001b[0;34m\u001b[0m\u001b[0;34m\u001b[0m\u001b[0m\n\u001b[1;32m      6\u001b[0m \u001b[0;31m# You should expect loss to go down every epoch, even if it's slow\u001b[0m\u001b[0;34m\u001b[0m\u001b[0;34m\u001b[0m\u001b[0;34m\u001b[0m\u001b[0m\n\u001b[0;32m----> 7\u001b[0;31m \u001b[0mloss_history\u001b[0m\u001b[0;34m,\u001b[0m \u001b[0mtrain_history\u001b[0m\u001b[0;34m,\u001b[0m \u001b[0mval_history\u001b[0m \u001b[0;34m=\u001b[0m \u001b[0mtrainer\u001b[0m\u001b[0;34m.\u001b[0m\u001b[0mfit\u001b[0m\u001b[0;34m(\u001b[0m\u001b[0;34m)\u001b[0m\u001b[0;34m\u001b[0m\u001b[0;34m\u001b[0m\u001b[0m\n\u001b[0m",
      "\u001b[0;32m~/Edu/dlcourse_ai/assignment2/trainer.py\u001b[0m in \u001b[0;36mfit\u001b[0;34m(self)\u001b[0m\n\u001b[1;32m    117\u001b[0m \u001b[0;34m\u001b[0m\u001b[0m\n\u001b[1;32m    118\u001b[0m             train_accuracy = self.compute_accuracy(self.dataset.train_X,\n\u001b[0;32m--> 119\u001b[0;31m                                                    self.dataset.train_y)\n\u001b[0m\u001b[1;32m    120\u001b[0m \u001b[0;34m\u001b[0m\u001b[0m\n\u001b[1;32m    121\u001b[0m             val_accuracy = self.compute_accuracy(self.dataset.val_X,\n",
      "\u001b[0;32m~/Edu/dlcourse_ai/assignment2/trainer.py\u001b[0m in \u001b[0;36mcompute_accuracy\u001b[0;34m(self, X, y)\u001b[0m\n\u001b[1;32m     70\u001b[0m         \u001b[0;32mfor\u001b[0m \u001b[0mbatch_indices\u001b[0m \u001b[0;32min\u001b[0m \u001b[0mbatches_indices\u001b[0m\u001b[0;34m:\u001b[0m\u001b[0;34m\u001b[0m\u001b[0;34m\u001b[0m\u001b[0m\n\u001b[1;32m     71\u001b[0m             \u001b[0mbatch_X\u001b[0m \u001b[0;34m=\u001b[0m \u001b[0mX\u001b[0m\u001b[0;34m[\u001b[0m\u001b[0mbatch_indices\u001b[0m\u001b[0;34m]\u001b[0m\u001b[0;34m\u001b[0m\u001b[0;34m\u001b[0m\u001b[0m\n\u001b[0;32m---> 72\u001b[0;31m             \u001b[0mpred_batch\u001b[0m \u001b[0;34m=\u001b[0m \u001b[0mself\u001b[0m\u001b[0;34m.\u001b[0m\u001b[0mmodel\u001b[0m\u001b[0;34m.\u001b[0m\u001b[0mpredict\u001b[0m\u001b[0;34m(\u001b[0m\u001b[0mbatch_X\u001b[0m\u001b[0;34m)\u001b[0m\u001b[0;34m\u001b[0m\u001b[0;34m\u001b[0m\u001b[0m\n\u001b[0m\u001b[1;32m     73\u001b[0m             \u001b[0mpred\u001b[0m\u001b[0;34m[\u001b[0m\u001b[0mbatch_indices\u001b[0m\u001b[0;34m]\u001b[0m \u001b[0;34m=\u001b[0m \u001b[0mpred_batch\u001b[0m\u001b[0;34m\u001b[0m\u001b[0;34m\u001b[0m\u001b[0m\n\u001b[1;32m     74\u001b[0m \u001b[0;34m\u001b[0m\u001b[0m\n",
      "\u001b[0;32m~/Edu/dlcourse_ai/assignment2/model.py\u001b[0m in \u001b[0;36mpredict\u001b[0;34m(self, X)\u001b[0m\n\u001b[1;32m     73\u001b[0m         \u001b[0;31m# Hint: some of the code of the compute_loss_and_gradients\u001b[0m\u001b[0;34m\u001b[0m\u001b[0;34m\u001b[0m\u001b[0;34m\u001b[0m\u001b[0m\n\u001b[1;32m     74\u001b[0m         \u001b[0;31m# can be reused\u001b[0m\u001b[0;34m\u001b[0m\u001b[0;34m\u001b[0m\u001b[0;34m\u001b[0m\u001b[0m\n\u001b[0;32m---> 75\u001b[0;31m         \u001b[0mpreds\u001b[0m \u001b[0;34m=\u001b[0m \u001b[0mself\u001b[0m\u001b[0;34m.\u001b[0m\u001b[0mlayer1\u001b[0m\u001b[0;34m.\u001b[0m\u001b[0mforward\u001b[0m\u001b[0;34m(\u001b[0m\u001b[0mX\u001b[0m\u001b[0;34m)\u001b[0m\u001b[0;34m\u001b[0m\u001b[0;34m\u001b[0m\u001b[0m\n\u001b[0m\u001b[1;32m     76\u001b[0m         \u001b[0mpreds\u001b[0m \u001b[0;34m=\u001b[0m \u001b[0mself\u001b[0m\u001b[0;34m.\u001b[0m\u001b[0mrelu\u001b[0m\u001b[0;34m.\u001b[0m\u001b[0mforward\u001b[0m\u001b[0;34m(\u001b[0m\u001b[0mpreds\u001b[0m\u001b[0;34m)\u001b[0m\u001b[0;34m\u001b[0m\u001b[0;34m\u001b[0m\u001b[0m\n\u001b[1;32m     77\u001b[0m         \u001b[0mpreds\u001b[0m \u001b[0;34m=\u001b[0m \u001b[0mself\u001b[0m\u001b[0;34m.\u001b[0m\u001b[0mlayer2\u001b[0m\u001b[0;34m.\u001b[0m\u001b[0mforward\u001b[0m\u001b[0;34m(\u001b[0m\u001b[0mpreds\u001b[0m\u001b[0;34m)\u001b[0m\u001b[0;34m\u001b[0m\u001b[0;34m\u001b[0m\u001b[0m\n",
      "\u001b[0;32m~/Edu/dlcourse_ai/assignment2/layers.py\u001b[0m in \u001b[0;36mforward\u001b[0;34m(self, X)\u001b[0m\n\u001b[1;32m    124\u001b[0m     \u001b[0;32mdef\u001b[0m \u001b[0mforward\u001b[0m\u001b[0;34m(\u001b[0m\u001b[0mself\u001b[0m\u001b[0;34m,\u001b[0m \u001b[0mX\u001b[0m\u001b[0;34m)\u001b[0m\u001b[0;34m:\u001b[0m\u001b[0;34m\u001b[0m\u001b[0;34m\u001b[0m\u001b[0m\n\u001b[1;32m    125\u001b[0m         \u001b[0mself\u001b[0m\u001b[0;34m.\u001b[0m\u001b[0mX\u001b[0m \u001b[0;34m=\u001b[0m \u001b[0mX\u001b[0m\u001b[0;34m.\u001b[0m\u001b[0mcopy\u001b[0m\u001b[0;34m(\u001b[0m\u001b[0;34m)\u001b[0m\u001b[0;34m\u001b[0m\u001b[0;34m\u001b[0m\u001b[0m\n\u001b[0;32m--> 126\u001b[0;31m         \u001b[0;32mreturn\u001b[0m \u001b[0mnp\u001b[0m\u001b[0;34m.\u001b[0m\u001b[0mdot\u001b[0m\u001b[0;34m(\u001b[0m\u001b[0mX\u001b[0m\u001b[0;34m,\u001b[0m \u001b[0mself\u001b[0m\u001b[0;34m.\u001b[0m\u001b[0mW\u001b[0m\u001b[0;34m.\u001b[0m\u001b[0mvalue\u001b[0m\u001b[0;34m)\u001b[0m \u001b[0;34m+\u001b[0m \u001b[0mself\u001b[0m\u001b[0;34m.\u001b[0m\u001b[0mB\u001b[0m\u001b[0;34m.\u001b[0m\u001b[0mvalue\u001b[0m\u001b[0;34m\u001b[0m\u001b[0;34m\u001b[0m\u001b[0m\n\u001b[0m\u001b[1;32m    127\u001b[0m \u001b[0;34m\u001b[0m\u001b[0m\n\u001b[1;32m    128\u001b[0m     \u001b[0;32mdef\u001b[0m \u001b[0mbackward\u001b[0m\u001b[0;34m(\u001b[0m\u001b[0mself\u001b[0m\u001b[0;34m,\u001b[0m \u001b[0md_out\u001b[0m\u001b[0;34m)\u001b[0m\u001b[0;34m:\u001b[0m\u001b[0;34m\u001b[0m\u001b[0;34m\u001b[0m\u001b[0m\n",
      "\u001b[0;32m<__array_function__ internals>\u001b[0m in \u001b[0;36mdot\u001b[0;34m(*args, **kwargs)\u001b[0m\n",
      "\u001b[0;31mKeyboardInterrupt\u001b[0m: "
     ]
    }
   ],
   "source": [
    "model = TwoLayerNet(n_input = train_X.shape[1], n_output = 10, hidden_layer_size = 100, reg = 1e1)\n",
    "dataset = Dataset(train_X, train_y, val_X, val_y)\n",
    "trainer = Trainer(model, dataset, SGD(), learning_rate = 1e-2)\n",
    "\n",
    "# TODO Implement missing pieces in Trainer.fit function\n",
    "# You should expect loss to go down every epoch, even if it's slow\n",
    "loss_history, train_history, val_history = trainer.fit()"
   ]
  },
  {
   "cell_type": "code",
   "execution_count": 17,
   "metadata": {},
   "outputs": [
    {
     "ename": "NameError",
     "evalue": "name 'train_history' is not defined",
     "output_type": "error",
     "traceback": [
      "\u001b[0;31m---------------------------------------------------------------------------\u001b[0m",
      "\u001b[0;31mNameError\u001b[0m                                 Traceback (most recent call last)",
      "\u001b[0;32m<ipython-input-17-3fe3f7db033e>\u001b[0m in \u001b[0;36m<module>\u001b[0;34m\u001b[0m\n\u001b[0;32m----> 1\u001b[0;31m \u001b[0mplt\u001b[0m\u001b[0;34m.\u001b[0m\u001b[0mplot\u001b[0m\u001b[0;34m(\u001b[0m\u001b[0mtrain_history\u001b[0m\u001b[0;34m)\u001b[0m\u001b[0;34m\u001b[0m\u001b[0;34m\u001b[0m\u001b[0m\n\u001b[0m\u001b[1;32m      2\u001b[0m \u001b[0mplt\u001b[0m\u001b[0;34m.\u001b[0m\u001b[0mplot\u001b[0m\u001b[0;34m(\u001b[0m\u001b[0mval_history\u001b[0m\u001b[0;34m)\u001b[0m\u001b[0;34m\u001b[0m\u001b[0;34m\u001b[0m\u001b[0m\n",
      "\u001b[0;31mNameError\u001b[0m: name 'train_history' is not defined"
     ]
    }
   ],
   "source": [
    "plt.plot(train_history)\n",
    "plt.plot(val_history)"
   ]
  },
  {
   "cell_type": "markdown",
   "metadata": {},
   "source": [
    "# Улучшаем процесс тренировки\n",
    "\n",
    "Мы реализуем несколько ключевых оптимизаций, необходимых для тренировки современных нейросетей."
   ]
  },
  {
   "cell_type": "markdown",
   "metadata": {},
   "source": [
    "## Уменьшение скорости обучения (learning rate decay)\n",
    "\n",
    "Одна из необходимых оптимизаций во время тренировки нейронных сетей - постепенное уменьшение скорости обучения по мере тренировки.\n",
    "\n",
    "Один из стандартных методов - уменьшение скорости обучения (learning rate) каждые N эпох на коэффициент d (часто называемый decay). Значения N и d, как всегда, являются гиперпараметрами и должны подбираться на основе эффективности на проверочных данных (validation data). \n",
    "\n",
    "В нашем случае N будет равным 1."
   ]
  },
  {
   "cell_type": "code",
   "execution_count": 18,
   "metadata": {},
   "outputs": [
    {
     "name": "stdout",
     "output_type": "stream",
     "text": [
      "Loss: 44.685838, Train accuracy: 0.300556, val accuracy: 0.312000\n",
      "Loss: 36.561844, Train accuracy: 0.508111, val accuracy: 0.507000\n",
      "Loss: 33.117321, Train accuracy: 0.533000, val accuracy: 0.519000\n",
      "Loss: 42.362450, Train accuracy: 0.553444, val accuracy: 0.543000\n",
      "Loss: 29.327403, Train accuracy: 0.564000, val accuracy: 0.560000\n",
      "Loss: 51.014493, Train accuracy: 0.434444, val accuracy: 0.446000\n",
      "Loss: 31.372024, Train accuracy: 0.590333, val accuracy: 0.579000\n",
      "Loss: 36.087072, Train accuracy: 0.554889, val accuracy: 0.536000\n",
      "Loss: 41.158377, Train accuracy: 0.579889, val accuracy: 0.597000\n",
      "Loss: 37.462522, Train accuracy: 0.528222, val accuracy: 0.534000\n",
      "Loss: 27.053407, Train accuracy: 0.559667, val accuracy: 0.529000\n",
      "Loss: 33.584782, Train accuracy: 0.611222, val accuracy: 0.629000\n",
      "Loss: 39.742323, Train accuracy: 0.547889, val accuracy: 0.554000\n",
      "Loss: 34.119332, Train accuracy: 0.571333, val accuracy: 0.578000\n",
      "Loss: 29.329932, Train accuracy: 0.620889, val accuracy: 0.612000\n",
      "Loss: 30.932090, Train accuracy: 0.610889, val accuracy: 0.601000\n",
      "Loss: 33.936622, Train accuracy: 0.647778, val accuracy: 0.638000\n",
      "Loss: 26.219535, Train accuracy: 0.624778, val accuracy: 0.604000\n",
      "Loss: 31.219553, Train accuracy: 0.586444, val accuracy: 0.595000\n",
      "Loss: 34.876066, Train accuracy: 0.632111, val accuracy: 0.615000\n"
     ]
    }
   ],
   "source": [
    "# TODO Implement learning rate decay inside Trainer.fit method\n",
    "# Decay should happen once per epoch\n",
    "\n",
    "model = TwoLayerNet(n_input = train_X.shape[1], n_output = 10, hidden_layer_size = 100, reg = 1e-1)\n",
    "dataset = Dataset(train_X, train_y, val_X, val_y)\n",
    "trainer = Trainer(model, dataset, SGD(), learning_rate_decay=0.99)\n",
    "\n",
    "initial_learning_rate = trainer.learning_rate\n",
    "loss_history, train_history, val_history = trainer.fit()\n",
    "\n",
    "assert trainer.learning_rate < initial_learning_rate, \"Learning rate should've been reduced\"\n",
    "assert trainer.learning_rate > 0.5*initial_learning_rate, \"Learning rate shouldn'tve been reduced that much!\""
   ]
  },
  {
   "cell_type": "markdown",
   "metadata": {},
   "source": [
    "# Накопление импульса (Momentum SGD)\n",
    "\n",
    "Другой большой класс оптимизаций - использование более эффективных методов градиентного спуска. Мы реализуем один из них - накопление импульса (Momentum SGD).\n",
    "\n",
    "Этот метод хранит скорость движения, использует градиент для ее изменения на каждом шаге, и изменяет веса пропорционально значению скорости.\n",
    "(Физическая аналогия: Вместо скорости градиенты теперь будут задавать ускорение, но будет присутствовать сила трения.)\n",
    "\n",
    "```\n",
    "velocity = momentum * velocity - learning_rate * gradient \n",
    "w = w + velocity\n",
    "```\n",
    "\n",
    "`momentum` здесь коэффициент затухания, который тоже является гиперпараметром (к счастью, для него часто есть хорошее значение по умолчанию, типичный диапазон -- 0.8-0.99).\n",
    "\n",
    "Несколько полезных ссылок, где метод разбирается более подробно:  \n",
    "http://cs231n.github.io/neural-networks-3/#sgd  \n",
    "https://distill.pub/2017/momentum/"
   ]
  },
  {
   "cell_type": "code",
   "execution_count": 19,
   "metadata": {},
   "outputs": [
    {
     "name": "stdout",
     "output_type": "stream",
     "text": [
      "Loss: 43.025909, Train accuracy: 0.196667, val accuracy: 0.206000\n",
      "Loss: 42.747209, Train accuracy: 0.196667, val accuracy: 0.206000\n",
      "Loss: 42.902497, Train accuracy: 0.196667, val accuracy: 0.206000\n",
      "Loss: 38.533364, Train accuracy: 0.196667, val accuracy: 0.206000\n",
      "Loss: 42.887901, Train accuracy: 0.205000, val accuracy: 0.212000\n",
      "Loss: 41.695714, Train accuracy: 0.248889, val accuracy: 0.252000\n",
      "Loss: 39.984884, Train accuracy: 0.269778, val accuracy: 0.269000\n",
      "Loss: 37.989162, Train accuracy: 0.295222, val accuracy: 0.297000\n",
      "Loss: 36.217654, Train accuracy: 0.356000, val accuracy: 0.365000\n",
      "Loss: 38.091380, Train accuracy: 0.404889, val accuracy: 0.381000\n",
      "Loss: 36.485403, Train accuracy: 0.435333, val accuracy: 0.427000\n",
      "Loss: 37.664789, Train accuracy: 0.461333, val accuracy: 0.461000\n",
      "Loss: 35.149638, Train accuracy: 0.483889, val accuracy: 0.485000\n",
      "Loss: 34.093564, Train accuracy: 0.533444, val accuracy: 0.535000\n",
      "Loss: 31.074557, Train accuracy: 0.550222, val accuracy: 0.545000\n",
      "Loss: 31.652784, Train accuracy: 0.568333, val accuracy: 0.559000\n",
      "Loss: 36.920458, Train accuracy: 0.587333, val accuracy: 0.574000\n",
      "Loss: 26.401292, Train accuracy: 0.601222, val accuracy: 0.586000\n",
      "Loss: 30.897894, Train accuracy: 0.617111, val accuracy: 0.610000\n",
      "Loss: 33.141314, Train accuracy: 0.633444, val accuracy: 0.625000\n"
     ]
    }
   ],
   "source": [
    "# TODO: Implement MomentumSGD.update function in optim.py\n",
    "\n",
    "model = TwoLayerNet(n_input = train_X.shape[1], n_output = 10, hidden_layer_size = 100, reg = 1e-1)\n",
    "dataset = Dataset(train_X, train_y, val_X, val_y)\n",
    "trainer = Trainer(model, dataset, MomentumSGD(), learning_rate=1e-4, learning_rate_decay=0.99)\n",
    "\n",
    "# You should see even better results than before!\n",
    "loss_history, train_history, val_history = trainer.fit()"
   ]
  },
  {
   "cell_type": "markdown",
   "metadata": {},
   "source": [
    "# Ну что, давайте уже тренировать сеть!"
   ]
  },
  {
   "cell_type": "markdown",
   "metadata": {},
   "source": [
    "## Последний тест - переобучимся (overfit) на маленьком наборе данных\n",
    "\n",
    "Хороший способ проверить, все ли реализовано корректно - переобучить сеть на маленьком наборе данных.  \n",
    "Наша модель обладает достаточной мощностью, чтобы приблизить маленький набор данных идеально, поэтому мы ожидаем, что на нем мы быстро дойдем до 100% точности на тренировочном наборе. \n",
    "\n",
    "Если этого не происходит, то где-то была допущена ошибка!"
   ]
  },
  {
   "cell_type": "code",
   "execution_count": 21,
   "metadata": {},
   "outputs": [
    {
     "name": "stdout",
     "output_type": "stream",
     "text": [
      "Loss: 2.331257, Train accuracy: 0.266667, val accuracy: 0.066667\n",
      "Loss: 2.312689, Train accuracy: 0.200000, val accuracy: 0.133333\n",
      "Loss: 2.352013, Train accuracy: 0.266667, val accuracy: 0.000000\n",
      "Loss: 2.281259, Train accuracy: 0.200000, val accuracy: 0.066667\n",
      "Loss: 2.318255, Train accuracy: 0.200000, val accuracy: 0.133333\n",
      "Loss: 2.271724, Train accuracy: 0.200000, val accuracy: 0.133333\n",
      "Loss: 2.287555, Train accuracy: 0.200000, val accuracy: 0.066667\n",
      "Loss: 2.266984, Train accuracy: 0.266667, val accuracy: 0.000000\n",
      "Loss: 2.174836, Train accuracy: 0.400000, val accuracy: 0.000000\n",
      "Loss: 2.241221, Train accuracy: 0.400000, val accuracy: 0.000000\n",
      "Loss: 2.236188, Train accuracy: 0.400000, val accuracy: 0.000000\n",
      "Loss: 2.348734, Train accuracy: 0.400000, val accuracy: 0.000000\n",
      "Loss: 1.915233, Train accuracy: 0.400000, val accuracy: 0.000000\n",
      "Loss: 1.583214, Train accuracy: 0.333333, val accuracy: 0.000000\n",
      "Loss: 1.544315, Train accuracy: 0.333333, val accuracy: 0.000000\n",
      "Loss: 1.974078, Train accuracy: 0.400000, val accuracy: 0.000000\n",
      "Loss: 1.887526, Train accuracy: 0.400000, val accuracy: 0.000000\n",
      "Loss: 1.224990, Train accuracy: 0.400000, val accuracy: 0.000000\n",
      "Loss: 1.648182, Train accuracy: 0.400000, val accuracy: 0.000000\n",
      "Loss: 1.939845, Train accuracy: 0.400000, val accuracy: 0.000000\n",
      "Loss: 2.356707, Train accuracy: 0.400000, val accuracy: 0.000000\n",
      "Loss: 2.053296, Train accuracy: 0.400000, val accuracy: 0.066667\n",
      "Loss: 1.422393, Train accuracy: 0.400000, val accuracy: 0.066667\n",
      "Loss: 1.787918, Train accuracy: 0.400000, val accuracy: 0.000000\n",
      "Loss: 1.547633, Train accuracy: 0.400000, val accuracy: 0.000000\n",
      "Loss: 2.366432, Train accuracy: 0.466667, val accuracy: 0.000000\n",
      "Loss: 1.786944, Train accuracy: 0.466667, val accuracy: 0.066667\n",
      "Loss: 1.408971, Train accuracy: 0.466667, val accuracy: 0.066667\n",
      "Loss: 2.318987, Train accuracy: 0.533333, val accuracy: 0.066667\n",
      "Loss: 2.054497, Train accuracy: 0.466667, val accuracy: 0.066667\n",
      "Loss: 1.842926, Train accuracy: 0.466667, val accuracy: 0.066667\n",
      "Loss: 2.101934, Train accuracy: 0.533333, val accuracy: 0.066667\n",
      "Loss: 1.459241, Train accuracy: 0.466667, val accuracy: 0.066667\n",
      "Loss: 1.890398, Train accuracy: 0.533333, val accuracy: 0.066667\n",
      "Loss: 1.447344, Train accuracy: 0.466667, val accuracy: 0.066667\n",
      "Loss: 1.955192, Train accuracy: 0.666667, val accuracy: 0.066667\n",
      "Loss: 1.734101, Train accuracy: 0.533333, val accuracy: 0.066667\n",
      "Loss: 2.343399, Train accuracy: 0.666667, val accuracy: 0.066667\n",
      "Loss: 1.790149, Train accuracy: 0.666667, val accuracy: 0.066667\n",
      "Loss: 1.857078, Train accuracy: 0.666667, val accuracy: 0.066667\n",
      "Loss: 1.574797, Train accuracy: 0.666667, val accuracy: 0.000000\n",
      "Loss: 1.688604, Train accuracy: 0.666667, val accuracy: 0.066667\n",
      "Loss: 1.348627, Train accuracy: 0.666667, val accuracy: 0.066667\n",
      "Loss: 1.331810, Train accuracy: 0.733333, val accuracy: 0.066667\n",
      "Loss: 1.607720, Train accuracy: 0.666667, val accuracy: 0.066667\n",
      "Loss: 2.020149, Train accuracy: 0.666667, val accuracy: 0.066667\n",
      "Loss: 1.457120, Train accuracy: 0.733333, val accuracy: 0.066667\n",
      "Loss: 1.400689, Train accuracy: 0.733333, val accuracy: 0.133333\n",
      "Loss: 1.212969, Train accuracy: 0.733333, val accuracy: 0.066667\n",
      "Loss: 1.590764, Train accuracy: 0.733333, val accuracy: 0.066667\n",
      "Loss: 1.761033, Train accuracy: 0.733333, val accuracy: 0.066667\n",
      "Loss: 1.166806, Train accuracy: 0.733333, val accuracy: 0.066667\n",
      "Loss: 1.323154, Train accuracy: 0.733333, val accuracy: 0.066667\n",
      "Loss: 1.112378, Train accuracy: 0.733333, val accuracy: 0.066667\n",
      "Loss: 1.464653, Train accuracy: 0.733333, val accuracy: 0.066667\n",
      "Loss: 1.762400, Train accuracy: 0.733333, val accuracy: 0.066667\n",
      "Loss: 1.615805, Train accuracy: 0.733333, val accuracy: 0.066667\n",
      "Loss: 1.694215, Train accuracy: 0.733333, val accuracy: 0.066667\n",
      "Loss: 0.804018, Train accuracy: 0.733333, val accuracy: 0.000000\n",
      "Loss: 1.673810, Train accuracy: 0.733333, val accuracy: 0.066667\n",
      "Loss: 1.342533, Train accuracy: 0.733333, val accuracy: 0.066667\n",
      "Loss: 1.536271, Train accuracy: 0.733333, val accuracy: 0.066667\n",
      "Loss: 1.639283, Train accuracy: 0.733333, val accuracy: 0.066667\n",
      "Loss: 1.322796, Train accuracy: 0.733333, val accuracy: 0.066667\n",
      "Loss: 1.755356, Train accuracy: 0.733333, val accuracy: 0.066667\n",
      "Loss: 1.344114, Train accuracy: 0.800000, val accuracy: 0.066667\n",
      "Loss: 0.969816, Train accuracy: 0.800000, val accuracy: 0.066667\n",
      "Loss: 1.427253, Train accuracy: 0.800000, val accuracy: 0.066667\n",
      "Loss: 1.621631, Train accuracy: 0.800000, val accuracy: 0.066667\n",
      "Loss: 0.900606, Train accuracy: 0.800000, val accuracy: 0.066667\n",
      "Loss: 1.612206, Train accuracy: 0.800000, val accuracy: 0.066667\n",
      "Loss: 1.243027, Train accuracy: 0.800000, val accuracy: 0.066667\n",
      "Loss: 1.328891, Train accuracy: 0.800000, val accuracy: 0.066667\n",
      "Loss: 1.464560, Train accuracy: 0.800000, val accuracy: 0.066667\n",
      "Loss: 1.299672, Train accuracy: 0.800000, val accuracy: 0.066667\n",
      "Loss: 1.300595, Train accuracy: 0.800000, val accuracy: 0.066667\n",
      "Loss: 0.917019, Train accuracy: 0.800000, val accuracy: 0.066667\n",
      "Loss: 1.855252, Train accuracy: 0.800000, val accuracy: 0.066667\n",
      "Loss: 1.680762, Train accuracy: 0.800000, val accuracy: 0.066667\n",
      "Loss: 1.802403, Train accuracy: 0.800000, val accuracy: 0.066667\n",
      "Loss: 1.392268, Train accuracy: 0.866667, val accuracy: 0.066667\n",
      "Loss: 1.411512, Train accuracy: 0.800000, val accuracy: 0.066667\n",
      "Loss: 1.264940, Train accuracy: 0.800000, val accuracy: 0.066667\n",
      "Loss: 1.388486, Train accuracy: 0.866667, val accuracy: 0.066667\n",
      "Loss: 1.272867, Train accuracy: 0.866667, val accuracy: 0.066667\n",
      "Loss: 1.227964, Train accuracy: 0.800000, val accuracy: 0.066667\n",
      "Loss: 1.158690, Train accuracy: 0.866667, val accuracy: 0.000000\n",
      "Loss: 1.597522, Train accuracy: 0.866667, val accuracy: 0.066667\n",
      "Loss: 1.312625, Train accuracy: 0.800000, val accuracy: 0.066667\n",
      "Loss: 1.240897, Train accuracy: 0.866667, val accuracy: 0.000000\n",
      "Loss: 0.975653, Train accuracy: 0.866667, val accuracy: 0.000000\n",
      "Loss: 1.042632, Train accuracy: 0.866667, val accuracy: 0.000000\n",
      "Loss: 1.637704, Train accuracy: 0.866667, val accuracy: 0.000000\n",
      "Loss: 1.078369, Train accuracy: 0.866667, val accuracy: 0.000000\n",
      "Loss: 1.080018, Train accuracy: 0.933333, val accuracy: 0.000000\n",
      "Loss: 1.485108, Train accuracy: 0.933333, val accuracy: 0.000000\n",
      "Loss: 1.256669, Train accuracy: 1.000000, val accuracy: 0.000000\n",
      "Loss: 1.091171, Train accuracy: 0.933333, val accuracy: 0.000000\n",
      "Loss: 1.280746, Train accuracy: 0.933333, val accuracy: 0.000000\n",
      "Loss: 1.256626, Train accuracy: 1.000000, val accuracy: 0.000000\n",
      "Loss: 1.412362, Train accuracy: 0.933333, val accuracy: 0.000000\n",
      "Loss: 0.975545, Train accuracy: 0.933333, val accuracy: 0.000000\n",
      "Loss: 1.000205, Train accuracy: 0.933333, val accuracy: 0.000000\n",
      "Loss: 1.294573, Train accuracy: 0.933333, val accuracy: 0.000000\n",
      "Loss: 1.185023, Train accuracy: 0.933333, val accuracy: 0.000000\n",
      "Loss: 1.398662, Train accuracy: 1.000000, val accuracy: 0.000000\n",
      "Loss: 1.291273, Train accuracy: 1.000000, val accuracy: 0.000000\n",
      "Loss: 1.207423, Train accuracy: 1.000000, val accuracy: 0.000000\n",
      "Loss: 1.496267, Train accuracy: 0.933333, val accuracy: 0.000000\n",
      "Loss: 1.367180, Train accuracy: 1.000000, val accuracy: 0.000000\n",
      "Loss: 1.282977, Train accuracy: 1.000000, val accuracy: 0.000000\n",
      "Loss: 1.289350, Train accuracy: 1.000000, val accuracy: 0.000000\n",
      "Loss: 1.277990, Train accuracy: 1.000000, val accuracy: 0.000000\n",
      "Loss: 1.151881, Train accuracy: 1.000000, val accuracy: 0.000000\n",
      "Loss: 1.065254, Train accuracy: 1.000000, val accuracy: 0.000000\n",
      "Loss: 1.211179, Train accuracy: 0.933333, val accuracy: 0.000000\n",
      "Loss: 1.442795, Train accuracy: 1.000000, val accuracy: 0.000000\n",
      "Loss: 1.114440, Train accuracy: 1.000000, val accuracy: 0.000000\n",
      "Loss: 1.392656, Train accuracy: 1.000000, val accuracy: 0.000000\n",
      "Loss: 1.212609, Train accuracy: 1.000000, val accuracy: 0.000000\n",
      "Loss: 1.407274, Train accuracy: 1.000000, val accuracy: 0.000000\n",
      "Loss: 1.277275, Train accuracy: 1.000000, val accuracy: 0.000000\n",
      "Loss: 1.447365, Train accuracy: 1.000000, val accuracy: 0.000000\n",
      "Loss: 1.518868, Train accuracy: 1.000000, val accuracy: 0.000000\n",
      "Loss: 1.197768, Train accuracy: 1.000000, val accuracy: 0.000000\n",
      "Loss: 1.377143, Train accuracy: 1.000000, val accuracy: 0.000000\n",
      "Loss: 1.394275, Train accuracy: 1.000000, val accuracy: 0.000000\n",
      "Loss: 1.433880, Train accuracy: 1.000000, val accuracy: 0.000000\n",
      "Loss: 1.434295, Train accuracy: 1.000000, val accuracy: 0.000000\n",
      "Loss: 1.361976, Train accuracy: 1.000000, val accuracy: 0.000000\n",
      "Loss: 1.417682, Train accuracy: 1.000000, val accuracy: 0.000000\n",
      "Loss: 1.453007, Train accuracy: 1.000000, val accuracy: 0.000000\n",
      "Loss: 1.422521, Train accuracy: 1.000000, val accuracy: 0.000000\n",
      "Loss: 1.433070, Train accuracy: 1.000000, val accuracy: 0.000000\n",
      "Loss: 1.446240, Train accuracy: 1.000000, val accuracy: 0.000000\n",
      "Loss: 1.285291, Train accuracy: 1.000000, val accuracy: 0.000000\n",
      "Loss: 1.433377, Train accuracy: 1.000000, val accuracy: 0.000000\n",
      "Loss: 1.327648, Train accuracy: 1.000000, val accuracy: 0.000000\n",
      "Loss: 1.676907, Train accuracy: 1.000000, val accuracy: 0.000000\n",
      "Loss: 1.280183, Train accuracy: 1.000000, val accuracy: 0.000000\n",
      "Loss: 1.252145, Train accuracy: 1.000000, val accuracy: 0.000000\n",
      "Loss: 1.292379, Train accuracy: 1.000000, val accuracy: 0.000000\n",
      "Loss: 1.293571, Train accuracy: 1.000000, val accuracy: 0.000000\n",
      "Loss: 1.359522, Train accuracy: 1.000000, val accuracy: 0.000000\n",
      "Loss: 1.158496, Train accuracy: 1.000000, val accuracy: 0.000000\n",
      "Loss: 1.465834, Train accuracy: 1.000000, val accuracy: 0.000000\n",
      "Loss: 1.307570, Train accuracy: 1.000000, val accuracy: 0.000000\n",
      "Loss: 1.366827, Train accuracy: 1.000000, val accuracy: 0.000000\n",
      "Loss: 1.354085, Train accuracy: 1.000000, val accuracy: 0.000000\n",
      "Loss: 1.155638, Train accuracy: 1.000000, val accuracy: 0.000000\n"
     ]
    }
   ],
   "source": [
    "data_size = 15\n",
    "model = TwoLayerNet(n_input = train_X.shape[1], n_output = 10, hidden_layer_size = 100, reg = 1e-1)\n",
    "dataset = Dataset(train_X[:data_size], train_y[:data_size], val_X[:data_size], val_y[:data_size])\n",
    "trainer = Trainer(model, dataset, SGD(), learning_rate=1e-1, num_epochs=150, batch_size=5)\n",
    "\n",
    "# You should expect this to reach 1.0 training accuracy \n",
    "loss_history, train_history, val_history = trainer.fit()"
   ]
  },
  {
   "cell_type": "markdown",
   "metadata": {},
   "source": [
    "Теперь найдем гипепараметры, для которых этот процесс сходится быстрее.\n",
    "Если все реализовано корректно, то существуют параметры, при которых процесс сходится в **20** эпох или еще быстрее.\n",
    "Найдите их!"
   ]
  },
  {
   "cell_type": "code",
   "execution_count": 23,
   "metadata": {},
   "outputs": [
    {
     "name": "stdout",
     "output_type": "stream",
     "text": [
      "Loss: 2.305777, Train accuracy: 0.200000, val accuracy: 0.133333\n",
      "Loss: 2.282819, Train accuracy: 0.200000, val accuracy: 0.133333\n",
      "Loss: 2.255530, Train accuracy: 0.266667, val accuracy: 0.000000\n",
      "Loss: 2.327063, Train accuracy: 0.400000, val accuracy: 0.000000\n",
      "Loss: 1.832070, Train accuracy: 0.333333, val accuracy: 0.000000\n",
      "Loss: 1.449632, Train accuracy: 0.466667, val accuracy: 0.000000\n",
      "Loss: 1.483399, Train accuracy: 0.400000, val accuracy: 0.000000\n",
      "Loss: 2.286773, Train accuracy: 0.466667, val accuracy: 0.000000\n",
      "Loss: 1.949917, Train accuracy: 0.600000, val accuracy: 0.000000\n",
      "Loss: 1.366293, Train accuracy: 0.733333, val accuracy: 0.066667\n",
      "Loss: 0.889183, Train accuracy: 0.800000, val accuracy: 0.000000\n",
      "Loss: 0.531747, Train accuracy: 0.800000, val accuracy: 0.066667\n",
      "Loss: 0.596367, Train accuracy: 0.933333, val accuracy: 0.000000\n",
      "Loss: 0.151637, Train accuracy: 1.000000, val accuracy: 0.066667\n",
      "Loss: 1.190085, Train accuracy: 1.000000, val accuracy: 0.000000\n",
      "Loss: 0.118814, Train accuracy: 0.933333, val accuracy: 0.133333\n",
      "Loss: 0.127468, Train accuracy: 0.933333, val accuracy: 0.066667\n",
      "Loss: 2.223458, Train accuracy: 1.000000, val accuracy: 0.066667\n",
      "Loss: 0.181122, Train accuracy: 0.866667, val accuracy: 0.066667\n",
      "Loss: 8.833978, Train accuracy: 0.800000, val accuracy: 0.200000\n"
     ]
    }
   ],
   "source": [
    "# Now, tweak some hyper parameters and make it train to 1.0 accuracy in 20 epochs or less\n",
    "\n",
    "model = TwoLayerNet(n_input = train_X.shape[1], n_output = 10, hidden_layer_size = 200, reg = 1e-3)\n",
    "dataset = Dataset(train_X[:data_size], train_y[:data_size], val_X[:data_size], val_y[:data_size])\n",
    "# TODO: Change any hyperparamers or optimizators to reach training accuracy in 20 epochs\n",
    "trainer = Trainer(model, dataset, MomentumSGD(), learning_rate=1e-1, num_epochs=20, batch_size=5)\n",
    "\n",
    "loss_history, train_history, val_history = trainer.fit()"
   ]
  },
  {
   "cell_type": "markdown",
   "metadata": {},
   "source": [
    "# Итак, основное мероприятие!\n",
    "\n",
    "Натренируйте лучшую нейросеть! Можно добавлять и изменять параметры, менять количество нейронов в слоях сети и как угодно экспериментировать. \n",
    "\n",
    "Добейтесь точности лучше **60%** на validation set."
   ]
  },
  {
   "cell_type": "code",
   "execution_count": 31,
   "metadata": {
    "scrolled": true
   },
   "outputs": [
    {
     "name": "stdout",
     "output_type": "stream",
     "text": [
      "Loss: 2.298858, Train accuracy: 0.196667, val accuracy: 0.206000\n",
      "Loss: 2.237284, Train accuracy: 0.196667, val accuracy: 0.206000\n",
      "Loss: 2.136486, Train accuracy: 0.241333, val accuracy: 0.245000\n",
      "Loss: 1.985082, Train accuracy: 0.325778, val accuracy: 0.310000\n",
      "Loss: 1.591526, Train accuracy: 0.428111, val accuracy: 0.415000\n",
      "Loss: 1.615959, Train accuracy: 0.528000, val accuracy: 0.537000\n",
      "Loss: 1.217635, Train accuracy: 0.568222, val accuracy: 0.562000\n",
      "Loss: 1.755578, Train accuracy: 0.627333, val accuracy: 0.620000\n",
      "Loss: 1.117275, Train accuracy: 0.644333, val accuracy: 0.642000\n",
      "Loss: 1.321737, Train accuracy: 0.670556, val accuracy: 0.676000\n",
      "Loss: 0.878124, Train accuracy: 0.701889, val accuracy: 0.678000\n",
      "Loss: 1.591998, Train accuracy: 0.706111, val accuracy: 0.678000\n",
      "Loss: 0.789112, Train accuracy: 0.721444, val accuracy: 0.700000\n",
      "Loss: 1.217160, Train accuracy: 0.738333, val accuracy: 0.712000\n",
      "Loss: 1.215820, Train accuracy: 0.713667, val accuracy: 0.690000\n",
      "Loss: 1.199619, Train accuracy: 0.747778, val accuracy: 0.693000\n",
      "Loss: 1.007476, Train accuracy: 0.753889, val accuracy: 0.714000\n",
      "Loss: 0.814586, Train accuracy: 0.763222, val accuracy: 0.725000\n",
      "Loss: 1.167187, Train accuracy: 0.782111, val accuracy: 0.731000\n",
      "Loss: 0.927530, Train accuracy: 0.793000, val accuracy: 0.731000\n",
      "Loss: 0.751642, Train accuracy: 0.784556, val accuracy: 0.733000\n",
      "Loss: 0.789757, Train accuracy: 0.799333, val accuracy: 0.740000\n",
      "Loss: 0.891992, Train accuracy: 0.806778, val accuracy: 0.737000\n",
      "Loss: 0.976222, Train accuracy: 0.802111, val accuracy: 0.730000\n",
      "Loss: 0.721132, Train accuracy: 0.822333, val accuracy: 0.745000\n",
      "Loss: 0.857258, Train accuracy: 0.821556, val accuracy: 0.744000\n",
      "Loss: 0.900689, Train accuracy: 0.810889, val accuracy: 0.729000\n",
      "Loss: 0.776300, Train accuracy: 0.831667, val accuracy: 0.749000\n",
      "Loss: 0.736700, Train accuracy: 0.831444, val accuracy: 0.736000\n",
      "Loss: 0.936246, Train accuracy: 0.833889, val accuracy: 0.728000\n",
      "Loss: 0.686387, Train accuracy: 0.844556, val accuracy: 0.759000\n",
      "Loss: 1.021334, Train accuracy: 0.845222, val accuracy: 0.750000\n",
      "Loss: 0.983171, Train accuracy: 0.845889, val accuracy: 0.746000\n",
      "Loss: 0.909016, Train accuracy: 0.865333, val accuracy: 0.757000\n",
      "Loss: 0.908005, Train accuracy: 0.859889, val accuracy: 0.747000\n",
      "Loss: 0.895481, Train accuracy: 0.865556, val accuracy: 0.767000\n",
      "Loss: 0.800279, Train accuracy: 0.861889, val accuracy: 0.742000\n",
      "Loss: 0.947806, Train accuracy: 0.872667, val accuracy: 0.769000\n",
      "Loss: 0.777612, Train accuracy: 0.871556, val accuracy: 0.763000\n",
      "Loss: 0.728362, Train accuracy: 0.867333, val accuracy: 0.760000\n",
      "Loss: 0.644548, Train accuracy: 0.867444, val accuracy: 0.756000\n",
      "Loss: 0.720523, Train accuracy: 0.869667, val accuracy: 0.763000\n",
      "Loss: 1.047450, Train accuracy: 0.868667, val accuracy: 0.765000\n",
      "Loss: 0.591820, Train accuracy: 0.889000, val accuracy: 0.762000\n",
      "Loss: 0.778309, Train accuracy: 0.881889, val accuracy: 0.767000\n",
      "Loss: 0.942667, Train accuracy: 0.892000, val accuracy: 0.765000\n",
      "Loss: 0.976287, Train accuracy: 0.887111, val accuracy: 0.774000\n",
      "Loss: 0.837076, Train accuracy: 0.873667, val accuracy: 0.752000\n",
      "Loss: 0.827937, Train accuracy: 0.893778, val accuracy: 0.763000\n",
      "Loss: 0.931906, Train accuracy: 0.869222, val accuracy: 0.751000\n"
     ]
    }
   ],
   "source": [
    "model_hyper_params = {'reg': 1e-3, 'hidden_layer_size': 128}\n",
    "trainer_hyper_params = {'num_epochs': 50, 'batch_size': 50, 'learning_rate': 1e-2, 'learning_rate_decay': 0.999}\n",
    "\n",
    "best_classifier = None\n",
    "best_val_accuracy = None\n",
    "\n",
    "loss_history = []\n",
    "train_history = []\n",
    "val_history = []\n",
    "\n",
    "# TODO find the best hyperparameters to train the network\n",
    "# Don't hesitate to add new values to the arrays above, perform experiments, use any tricks you want\n",
    "# You should expect to get to at least 40% of valudation accuracy\n",
    "# Save loss/train/history of the best classifier to the variables above\n",
    "model = TwoLayerNet(n_input = train_X.shape[1], n_output = 10, **model_hyper_params)\n",
    "dataset = Dataset(train_X, train_y, val_X, val_y)\n",
    "trainer = Trainer(model, dataset, MomentumSGD(), **trainer_hyper_params)\n",
    "    \n",
    "loss_history, train_history, val_history = trainer.fit()\n",
    "\n",
    "best_classifier = model"
   ]
  },
  {
   "cell_type": "code",
   "execution_count": 32,
   "metadata": {},
   "outputs": [
    {
     "data": {
      "text/plain": [
       "[<matplotlib.lines.Line2D at 0x11f3ec890>]"
      ]
     },
     "execution_count": 32,
     "metadata": {},
     "output_type": "execute_result"
    },
    {
     "data": {
      "image/png": "[encoded data removed]",
      "text/plain": [
       "<Figure size 1080x504 with 2 Axes>"
      ]
     },
     "metadata": {
      "needs_background": "light"
     },
     "output_type": "display_data"
    }
   ],
   "source": [
    "plt.figure(figsize=(15, 7))\n",
    "plt.subplot(211)\n",
    "plt.title(\"Loss\")\n",
    "plt.plot(loss_history)\n",
    "plt.subplot(212)\n",
    "plt.title(\"Train/validation accuracy\")\n",
    "plt.plot(train_history)\n",
    "plt.plot(val_history)"
   ]
  },
  {
   "cell_type": "markdown",
   "metadata": {},
   "source": [
    "# Как обычно, посмотрим, как наша лучшая модель работает на тестовых данных"
   ]
  },
  {
   "cell_type": "code",
   "execution_count": 33,
   "metadata": {},
   "outputs": [
    {
     "name": "stdout",
     "output_type": "stream",
     "text": [
      "Neural net test set accuracy: 0.725000\n"
     ]
    }
   ],
   "source": [
    "test_pred = best_classifier.predict(test_X)\n",
    "test_accuracy = multiclass_accuracy(test_pred, test_y)\n",
    "print('Neural net test set accuracy: %f' % (test_accuracy, ))"
   ]
  },
  {
   "cell_type": "code",
   "execution_count": null,
   "metadata": {},
   "outputs": [],
   "source": []
  }
 ],
 "metadata": {
  "kernelspec": {
   "display_name": "Python 3",
   "language": "python",
   "name": "python3"
  },
  "language_info": {
   "codemirror_mode": {
    "name": "ipython",
    "version": 3
   },
   "file_extension": ".py",
   "mimetype": "text/x-python",
   "name": "python",
   "nbconvert_exporter": "python",
   "pygments_lexer": "ipython3",
   "version": "3.7.6"
  }
 },
 "nbformat": 4,
 "nbformat_minor": 4
}
